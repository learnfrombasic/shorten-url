{
 "cells": [
  {
   "cell_type": "code",
   "execution_count": 1,
   "metadata": {},
   "outputs": [],
   "source": [
    "test_urls = [\n",
    "    \"https://docs.python.org/3/library/hashlib.html\",\n",
    "    \"https://arxiv.org/pdf/2110.13128x\",\n",
    "    \"https://www.google.com/\",\n",
    "    \"https://en.wikipedia.org/wiki/Systems_design\"\n",
    "]"
   ]
  },
  {
   "cell_type": "code",
   "execution_count": 2,
   "metadata": {},
   "outputs": [
    {
     "name": "stdout",
     "output_type": "stream",
     "text": [
      "Short URL: 4a6934\n",
      "Original URL: https://docs.python.org/3/library/hashlib.html\n"
     ]
    }
   ],
   "source": [
    "import hashlib\n",
    "import random\n",
    "import string\n",
    "\n",
    "class URLShortener:\n",
    "    def __init__(self):\n",
    "        self.url_map = {}  # Dictionary to store shortURL -> longURL mappings\n",
    "        self.salt = \"abc123\"  # Predefined string for handling collisions\n",
    "\n",
    "    def generate_short_url(self, long_url):\n",
    "        \"\"\"Generates a short URL using SHA-256 hashing with collision handling.\"\"\"\n",
    "        attempt = 0\n",
    "        \n",
    "        while True:\n",
    "            # Append salt if retrying due to collision\n",
    "            url_to_hash = long_url + (self.salt * attempt if attempt > 0 else \"\")\n",
    "            \n",
    "            # Generate a hash\n",
    "            hash_obj = hashlib.sha256(url_to_hash.encode())\n",
    "            short_url = hash_obj.hexdigest()[:6]  # Take the first 6 characters\n",
    "            \n",
    "            # Check for collision\n",
    "            if short_url not in self.url_map:\n",
    "                self.url_map[short_url] = long_url\n",
    "                return short_url  # Return the generated short URL\n",
    "            else:\n",
    "                attempt += 1  # Increase attempt to modify the hash in the next iteration\n",
    "\n",
    "    def get_long_url(self, short_url):\n",
    "        \"\"\"Retrieves the original URL from the short URL.\"\"\"\n",
    "        return self.url_map.get(short_url, \"URL not found\")\n",
    "\n",
    "# Example usage\n",
    "shortener = URLShortener()\n",
    "long_url = test_urls[0]\n",
    "\n",
    "short_url = shortener.generate_short_url(long_url)\n",
    "print(f\"Short URL: {short_url}\")\n",
    "\n",
    "# Retrieve original URL\n",
    "retrieved_url = shortener.get_long_url(short_url)\n",
    "print(f\"Original URL: {retrieved_url}\")\n"
   ]
  },
  {
   "cell_type": "code",
   "execution_count": 6,
   "metadata": {},
   "outputs": [
    {
     "name": "stdout",
     "output_type": "stream",
     "text": [
      "Short URL: B\n",
      "Original URL: https://docs.python.org/3/library/hashlib.html\n"
     ]
    }
   ],
   "source": [
    "import string\n",
    "\n",
    "class Base24URLShortener:\n",
    "    def __init__(self):\n",
    "        self.charset = \"ABCDEFGHJKLMNPQRSTUVWXYZ23456789\"  # Base-24 characters (excluding 0, O, 1, I)\n",
    "        self.base = len(self.charset)\n",
    "        self.url_map = {}  # Stores ID-to-URL mappings\n",
    "        self.counter = 1  # Simulated auto-incrementing ID (would be a DB ID in real-world applications)\n",
    "\n",
    "    def encode(self, num):\n",
    "        \"\"\"Converts an integer ID to a Base-24 short URL.\"\"\"\n",
    "        if num == 0:\n",
    "            return self.charset[0]\n",
    "        \n",
    "        short_url = []\n",
    "        while num > 0:\n",
    "            remainder = num % self.base\n",
    "            short_url.append(self.charset[remainder])\n",
    "            num //= self.base\n",
    "        \n",
    "        return \"\".join(short_url[::-1])  # Reverse the result for correct encoding\n",
    "\n",
    "    def decode(self, short_url):\n",
    "        \"\"\"Converts a Base-24 short URL back to an integer ID.\"\"\"\n",
    "        num = 0\n",
    "        for char in short_url:\n",
    "            num = num * self.base + self.charset.index(char)\n",
    "        return num\n",
    "\n",
    "    def generate_short_url(self, long_url):\n",
    "        \"\"\"Generates a short URL using Base-24 encoding.\"\"\"\n",
    "        short_url = self.encode(self.counter)\n",
    "        self.url_map[short_url] = long_url\n",
    "        self.counter += 1  # Increment the ID for the next URL\n",
    "        return short_url\n",
    "\n",
    "    def get_long_url(self, short_url):\n",
    "        \"\"\"Retrieves the original long URL from the short URL.\"\"\"\n",
    "        return self.url_map.get(short_url, \"URL not found\")\n",
    "\n",
    "\n",
    "# Example Usage\n",
    "shortener = Base24URLShortener()\n",
    "long_url = test_urls[0]\n",
    "\n",
    "short_url = shortener.generate_short_url(long_url)\n",
    "print(f\"Short URL: {short_url}\")  # Example output: \"B2F\"\n",
    "\n",
    "retrieved_url = shortener.get_long_url(short_url)\n",
    "print(f\"Original URL: {retrieved_url}\")\n"
   ]
  },
  {
   "cell_type": "code",
   "execution_count": null,
   "metadata": {},
   "outputs": [],
   "source": []
  },
  {
   "cell_type": "code",
   "execution_count": null,
   "metadata": {},
   "outputs": [],
   "source": []
  },
  {
   "cell_type": "code",
   "execution_count": null,
   "metadata": {},
   "outputs": [],
   "source": []
  }
 ],
 "metadata": {
  "kernelspec": {
   "display_name": "the-notes",
   "language": "python",
   "name": "python3"
  },
  "language_info": {
   "codemirror_mode": {
    "name": "ipython",
    "version": 3
   },
   "file_extension": ".py",
   "mimetype": "text/x-python",
   "name": "python",
   "nbconvert_exporter": "python",
   "pygments_lexer": "ipython3",
   "version": "3.10.16"
  }
 },
 "nbformat": 4,
 "nbformat_minor": 2
}
